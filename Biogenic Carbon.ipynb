{
 "cells": [
  {
   "cell_type": "code",
   "execution_count": 1,
   "id": "e418276b",
   "metadata": {},
   "outputs": [
    {
     "name": "stdout",
     "output_type": "stream",
     "text": [
      "Merged file saved to Data Output/Commodity Production/Commodity_Production-1980_2023_final.xlsx\n"
     ]
    }
   ],
   "source": [
    "import pandas as pd\n",
    "\n",
    "# File paths\n",
    "input_biogenic = \"Data Input/Biogenic Carbon/ABG_BGB_mean.xlsx\"\n",
    "input_production = \"Data Output/Commodity Production/Commodity_Production-1980_2023_final.xlsx\"\n",
    "output_file = \"Data Output/Commodity Production/Commodity_Production-1980_2023_final.xlsx\"\n",
    "\n",
    "# Load the data\n",
    "biogenic_df = pd.read_excel(input_biogenic)\n",
    "production_df = pd.read_excel(input_production)\n",
    "\n",
    "# Keep only the needed columns and scale them by 0.1\n",
    "biogenic_subset = biogenic_df[['id_cluster', 'Final_AGB_mean', 'Final_BGB_mean']].copy()\n",
    "biogenic_subset['Final_AGB_mean'] = biogenic_subset['Final_AGB_mean'] * 0.1\n",
    "biogenic_subset['Final_BGB_mean'] = biogenic_subset['Final_BGB_mean'] * 0.1\n",
    "\n",
    "# Merge based on id_cluster\n",
    "merged_df = production_df.merge(\n",
    "    biogenic_subset,\n",
    "    on='id_cluster',\n",
    "    how='left'\n",
    ")\n",
    "\n",
    "# Rename the merged columns\n",
    "merged_df = merged_df.rename(\n",
    "    columns={\n",
    "        'Final_AGB_mean': 'AGB_mean (Mg C/ha)',\n",
    "        'Final_BGB_mean': 'BGB_mean (Mg C/ha)'\n",
    "    }\n",
    ")\n",
    "\n",
    "# Save result\n",
    "merged_df.to_excel(output_file, index=False)\n",
    "\n",
    "print(f\"Merged file saved to {output_file}\")\n",
    "\n"
   ]
  }
 ],
 "metadata": {
  "kernelspec": {
   "display_name": "Python 3",
   "language": "python",
   "name": "python3"
  },
  "language_info": {
   "codemirror_mode": {
    "name": "ipython",
    "version": 3
   },
   "file_extension": ".py",
   "mimetype": "text/x-python",
   "name": "python",
   "nbconvert_exporter": "python",
   "pygments_lexer": "ipython3",
   "version": "3.12.3"
  }
 },
 "nbformat": 4,
 "nbformat_minor": 5
}
